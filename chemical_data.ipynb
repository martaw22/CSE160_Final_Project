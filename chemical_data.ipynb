{
 "cells": [
  {
   "cell_type": "code",
   "execution_count": null,
   "metadata": {
    "collapsed": true
   },
   "outputs": [],
   "source": [
    "'''This code will eventually open a bunch of csv files that are all in a folder\n",
    "right now it opens one csv test file and finds the average temperature in degrees C \n",
    "from depths <=50 m for each year and returns a dictionary with years as keys and average \n",
    "temps as values'''\n",
    "\n",
    "'''Things to do next:\n",
    "1. Open all the csv files for a particular place one at a time\n",
    "2. Plot the data of average temp vs. year with a line or scatter plot for each location\n",
    "3. Make code into functions/better style'''"
   ]
  },
  {
   "cell_type": "code",
   "execution_count": 33,
   "metadata": {
    "collapsed": false
   },
   "outputs": [],
   "source": [
    "import csv\n",
    "import matplotlib.pyplot as plt\n",
    "import matplotlib.axes as axes\n",
    "%matplotlib inline\n",
    "\n",
    "#Open the sample data .csv file and put it all in a list\n",
    "data_file_list = []\n",
    "with open('SWIndianOcean/data_test_SWI.csv', encoding='utf-8') as csvfile:\n",
    "    csv_reader = csv.reader(csvfile)    \n",
    "    for row in csv_reader:        \n",
    "        data_file_list.append(row)\n",
    "csvfile.close()\n",
    "#print(data_file_list)         \n",
    "        \n",
    "        \n",
    "        "
   ]
  },
  {
   "cell_type": "code",
   "execution_count": 44,
   "metadata": {
    "collapsed": false
   },
   "outputs": [],
   "source": [
    "#read the list row by row and take out any spaces in individual strings because there were a lot of extra spaces after certain words\n",
    "data_file_list_nospaces = []\n",
    "for row in data_file_list:    \n",
    "    new_row = []\n",
    "    for word in row:\n",
    "        new_word = word.replace(' ', '')\n",
    "        new_row.append(new_word)\n",
    "    data_file_list_nospaces.append(new_row)\n",
    "#print(data_file_list_nospaces)\n"
   ]
  },
  {
   "cell_type": "code",
   "execution_count": 61,
   "metadata": {
    "collapsed": false
   },
   "outputs": [],
   "source": [
    "#Make a list of lists into a different list of lists, where each inner list is a list of lists of all the data for each entry\n",
    "data_blocked_list = []\n",
    "new_block = []\n",
    "for row in data_file_list_nospaces:\n",
    "    if 'ENDOFVARIABLESSECTION' not in row:        \n",
    "        new_block.append(row)        \n",
    "    else:\n",
    "        data_blocked_list.append(new_block)\n",
    "        new_block = []\n",
    "#print(data_blocked_list)"
   ]
  },
  {
   "cell_type": "code",
   "execution_count": 60,
   "metadata": {
    "collapsed": false
   },
   "outputs": [
    {
     "name": "stdout",
     "output_type": "stream",
     "text": [
      "[{'1800': {'1': '70'}}, {'1800': {'1': '74'}}, {'1800': {'1': '76'}}, {'1800': {'1': '76'}}, {'1800': {'1': '78'}}, {'1800': {'1': '78'}}, {'1800': {'1': '78'}}]\n"
     ]
    }
   ],
   "source": [
    "#Now make a list of dictionaries with the key of years, inner key of depths, and values of temperature\n",
    "#Do the same for pH eventually\n",
    "temperature_list = []\n",
    "for block in data_blocked_list:\n",
    "    year_dict = {}\n",
    "    depth_dict = {}\n",
    "    for line in range(len(block)):       \n",
    "        if 'Year' in block[line]:\n",
    "            year = block[line][2]            \n",
    "        if 'VARIABLES' and 'Temperatur' in block[line]:\n",
    "            for i in range(line+3, len(block)):\n",
    "                depth = block[i][0]\n",
    "                temp = block[i][4]\n",
    "                if depth in depth_dict:\n",
    "                    value = depth_dict[depth]\n",
    "                    new_value = list(value).append(temp)\n",
    "                    depth_dict[depth] = new_value\n",
    "                else:\n",
    "                    depth_dict[depth] = temp\n",
    "        year_dict[year] = depth_dict\n",
    "    temperature_list.append(year_dict)\n",
    "print(temperature_list)    "
   ]
  },
  {
   "cell_type": "code",
   "execution_count": 95,
   "metadata": {
    "collapsed": false
   },
   "outputs": [
    {
     "name": "stdout",
     "output_type": "stream",
     "text": [
      "{'1800': ['70', '74', '76', '76', '78', '78', '78']}\n"
     ]
    }
   ],
   "source": [
    "#Have a list of dictionaries with outer keys of years, and inner keys of depths, and inner values of temps\n",
    "#Now take all dicts that have the same year and create a new dictionary that has years as keys and as values, averages all of the temps together (for all depths less than or equal to 50)\n",
    "temp_dict = {}\n",
    "for row in temperature_list:\n",
    "    year = list(row.keys())\n",
    "    depth = list(row[year[0]].keys())\n",
    "    temp = row[year[0]][depth[0]]\n",
    "    if int(depth[0]) <= 50:\n",
    "        if year[0] in temp_dict:\n",
    "            temp_list = temp_dict[year[0]]\n",
    "            temp_list.append(temp)\n",
    "        else:\n",
    "            temp_dict[year[0]] = [temp]\n",
    "print(temp_dict)    "
   ]
  },
  {
   "cell_type": "code",
   "execution_count": 99,
   "metadata": {
    "collapsed": false
   },
   "outputs": [
    {
     "name": "stdout",
     "output_type": "stream",
     "text": [
      "{'1800': 75.71428571428571}\n"
     ]
    }
   ],
   "source": [
    "#Now average together all the temperature values for each year key\n",
    "ave_temp_dict = {}\n",
    "for year in temp_dict:\n",
    "    temps = temp_dict[year]\n",
    "    total_number_temps = len(temps)\n",
    "    temp_total = 0\n",
    "    for temp in temps:\n",
    "        temp_total += int(temp)\n",
    "    average_temp = temp_total/total_number_temps\n",
    "    ave_temp_dict[year] = average_temp\n",
    "print(ave_temp_dict)"
   ]
  },
  {
   "cell_type": "code",
   "execution_count": null,
   "metadata": {
    "collapsed": true
   },
   "outputs": [],
   "source": []
  }
 ],
 "metadata": {
  "kernelspec": {
   "display_name": "Python [anaconda]",
   "language": "python",
   "name": "Python [anaconda]"
  },
  "language_info": {
   "codemirror_mode": {
    "name": "ipython",
    "version": 3
   },
   "file_extension": ".py",
   "mimetype": "text/x-python",
   "name": "python",
   "nbconvert_exporter": "python",
   "pygments_lexer": "ipython3",
   "version": "3.5.2"
  }
 },
 "nbformat": 4,
 "nbformat_minor": 0
}
